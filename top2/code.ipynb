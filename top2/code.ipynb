{
 "cells": [
  {
   "cell_type": "code",
   "execution_count": 1,
   "metadata": {},
   "outputs": [],
   "source": [
    "import pandas as pd\n",
    "read_file = pd.read_csv (r'D:\\4_Summer23\\DAP391m\\top2\\train\\sentiments.txt')\n",
    "read_file.to_csv (r'D:\\4_Summer23\\DAP391m\\top2\\train\\sentiments.csv', index=None)"
   ]
  },
  {
   "cell_type": "code",
   "execution_count": 3,
   "metadata": {},
   "outputs": [],
   "source": [
    "read_file = pd.read_csv (r'D:\\4_Summer23\\DAP391m\\top2\\train\\topics.txt')\n",
    "read_file.to_csv (r'D:\\4_Summer23\\DAP391m\\top2\\train\\topics.csv', index=None)"
   ]
  },
  {
   "cell_type": "code",
   "execution_count": 8,
   "metadata": {},
   "outputs": [],
   "source": [
    "read_file = pd.read_csv (r'D:\\4_Summer23\\DAP391m\\top2\\train\\sents.txt', sep='\\t')\n",
    "read_file.to_csv (r'D:\\4_Summer23\\DAP391m\\top2\\train\\sents.csv', index=None)"
   ]
  },
  {
   "cell_type": "code",
   "execution_count": 22,
   "metadata": {},
   "outputs": [
    {
     "data": {
      "text/html": [
       "<div>\n",
       "<style scoped>\n",
       "    .dataframe tbody tr th:only-of-type {\n",
       "        vertical-align: middle;\n",
       "    }\n",
       "\n",
       "    .dataframe tbody tr th {\n",
       "        vertical-align: top;\n",
       "    }\n",
       "\n",
       "    .dataframe thead th {\n",
       "        text-align: right;\n",
       "    }\n",
       "</style>\n",
       "<table border=\"1\" class=\"dataframe\">\n",
       "  <thead>\n",
       "    <tr style=\"text-align: right;\">\n",
       "      <th></th>\n",
       "      <th>Sentences</th>\n",
       "      <th>Sentiments</th>\n",
       "    </tr>\n",
       "  </thead>\n",
       "  <tbody>\n",
       "    <tr>\n",
       "      <th>0</th>\n",
       "      <td>slide giáo trình đầy đủ .</td>\n",
       "      <td>2</td>\n",
       "    </tr>\n",
       "    <tr>\n",
       "      <th>1</th>\n",
       "      <td>nhiệt tình giảng dạy , gần gũi với sinh viên .</td>\n",
       "      <td>2</td>\n",
       "    </tr>\n",
       "    <tr>\n",
       "      <th>2</th>\n",
       "      <td>đi học đầy đủ full điểm chuyên cần .</td>\n",
       "      <td>0</td>\n",
       "    </tr>\n",
       "    <tr>\n",
       "      <th>3</th>\n",
       "      <td>chưa áp dụng công nghệ thông tin và các thiết ...</td>\n",
       "      <td>0</td>\n",
       "    </tr>\n",
       "    <tr>\n",
       "      <th>4</th>\n",
       "      <td>thầy giảng bài hay , có nhiều bài tập ví dụ ng...</td>\n",
       "      <td>2</td>\n",
       "    </tr>\n",
       "    <tr>\n",
       "      <th>...</th>\n",
       "      <td>...</td>\n",
       "      <td>...</td>\n",
       "    </tr>\n",
       "    <tr>\n",
       "      <th>11421</th>\n",
       "      <td>chỉ vì môn game mà em học hai lần mà không qua...</td>\n",
       "      <td>0</td>\n",
       "    </tr>\n",
       "    <tr>\n",
       "      <th>11422</th>\n",
       "      <td>em cảm ơn cô nhiều .</td>\n",
       "      <td>2</td>\n",
       "    </tr>\n",
       "    <tr>\n",
       "      <th>11423</th>\n",
       "      <td>giao bài tập quá nhiều .</td>\n",
       "      <td>0</td>\n",
       "    </tr>\n",
       "    <tr>\n",
       "      <th>11424</th>\n",
       "      <td>giáo viên dạy dễ hiểu , nhiệt tình .</td>\n",
       "      <td>2</td>\n",
       "    </tr>\n",
       "    <tr>\n",
       "      <th>11425</th>\n",
       "      <td>gói gọn doubledot hay , tận tình , phù hợp với...</td>\n",
       "      <td>2</td>\n",
       "    </tr>\n",
       "  </tbody>\n",
       "</table>\n",
       "<p>11426 rows × 2 columns</p>\n",
       "</div>"
      ],
      "text/plain": [
       "                                               Sentences  Sentiments\n",
       "0                              slide giáo trình đầy đủ .           2\n",
       "1         nhiệt tình giảng dạy , gần gũi với sinh viên .           2\n",
       "2                   đi học đầy đủ full điểm chuyên cần .           0\n",
       "3      chưa áp dụng công nghệ thông tin và các thiết ...           0\n",
       "4      thầy giảng bài hay , có nhiều bài tập ví dụ ng...           2\n",
       "...                                                  ...         ...\n",
       "11421  chỉ vì môn game mà em học hai lần mà không qua...           0\n",
       "11422                               em cảm ơn cô nhiều .           2\n",
       "11423                           giao bài tập quá nhiều .           0\n",
       "11424               giáo viên dạy dễ hiểu , nhiệt tình .           2\n",
       "11425  gói gọn doubledot hay , tận tình , phù hợp với...           2\n",
       "\n",
       "[11426 rows x 2 columns]"
      ]
     },
     "execution_count": 22,
     "metadata": {},
     "output_type": "execute_result"
    }
   ],
   "source": [
    "df1 = pd.read_csv(r'D:\\4_Summer23\\DAP391m\\top2\\train\\sents.csv', header = None)\n",
    "df2 = pd.read_csv(r'D:\\4_Summer23\\DAP391m\\top2\\train\\sentiments.csv', header = None)\n",
    "file = pd.concat([df1, df2], axis=1, join='inner')\n",
    "file.columns = ['Sentences', 'Sentiments']\n",
    "file.to_csv(r'D:\\4_Summer23\\DAP391m\\top2\\train.csv', index=None)\n",
    "file"
   ]
  },
  {
   "cell_type": "code",
   "execution_count": null,
   "metadata": {},
   "outputs": [],
   "source": []
  }
 ],
 "metadata": {
  "kernelspec": {
   "display_name": "Python 3",
   "language": "python",
   "name": "python3"
  },
  "language_info": {
   "codemirror_mode": {
    "name": "ipython",
    "version": 3
   },
   "file_extension": ".py",
   "mimetype": "text/x-python",
   "name": "python",
   "nbconvert_exporter": "python",
   "pygments_lexer": "ipython3",
   "version": "3.10.4"
  },
  "orig_nbformat": 4
 },
 "nbformat": 4,
 "nbformat_minor": 2
}
